{
 "cells": [
  {
   "cell_type": "code",
   "execution_count": 1,
   "id": "4b021c3a",
   "metadata": {},
   "outputs": [],
   "source": [
    "import pandas as pd"
   ]
  },
  {
   "cell_type": "code",
   "execution_count": 7,
   "id": "61d48e5b",
   "metadata": {},
   "outputs": [],
   "source": [
    "# url20101 = \"https://github.com/FranciscoFoz/7_Days_of_Code_Alura-Python-Pandas/blob/main/Dia_1-Importando_dados/Datasets/dados_emprestimos/emprestimos-20101.csv?raw=true\"\n",
    "# url20102 = \"https://github.com/FranciscoFoz/7_Days_of_Code_Alura-Python-Pandas/blob/main/Dia_1-Importando_dados/Datasets/dados_emprestimos/emprestimos-20102.csv?raw=true\"\n",
    "# url20111 = \"https://github.com/FranciscoFoz/7_Days_of_Code_Alura-Python-Pandas/blob/main/Dia_1-Importando_dados/Datasets/dados_emprestimos/emprestimos-20111.csv?raw=true\"\n",
    "# url20112 = \"https://github.com/FranciscoFoz/7_Days_of_Code_Alura-Python-Pandas/blob/main/Dia_1-Importando_dados/Datasets/dados_emprestimos/emprestimos-20112.csv?raw=true\"\n",
    "# url20121 = \"https://github.com/FranciscoFoz/7_Days_of_Code_Alura-Python-Pandas/blob/main/Dia_1-Importando_dados/Datasets/dados_emprestimos/emprestimos-20121.csv?raw=true\"\n",
    "# url20122 = \"https://github.com/FranciscoFoz/7_Days_of_Code_Alura-Python-Pandas/blob/main/Dia_1-Importando_dados/Datasets/dados_emprestimos/emprestimos-20122.csv?raw=true\"\n",
    "# url20131 = \"https://github.com/FranciscoFoz/7_Days_of_Code_Alura-Python-Pandas/blob/main/Dia_1-Importando_dados/Datasets/dados_emprestimos/emprestimos-20131.csv?raw=true\"\n",
    "# url20132 = \"https://github.com/FranciscoFoz/7_Days_of_Code_Alura-Python-Pandas/blob/main/Dia_1-Importando_dados/Datasets/dados_emprestimos/emprestimos-20132.csv?raw=true\"\n",
    "# url20141 = \"https://github.com/FranciscoFoz/7_Days_of_Code_Alura-Python-Pandas/blob/main/Dia_1-Importando_dados/Datasets/dados_emprestimos/emprestimos-20141.csv?raw=true\"\n",
    "# url20142 = \"https://github.com/FranciscoFoz/7_Days_of_Code_Alura-Python-Pandas/blob/main/Dia_1-Importando_dados/Datasets/dados_emprestimos/emprestimos-20142.csv?raw=true\"\n",
    "# url20151 = \"https://github.com/FranciscoFoz/7_Days_of_Code_Alura-Python-Pandas/blob/main/Dia_1-Importando_dados/Datasets/dados_emprestimos/emprestimos-20151.csv?raw=true\"\n",
    "# url20152 = \"https://github.com/FranciscoFoz/7_Days_of_Code_Alura-Python-Pandas/blob/main/Dia_1-Importando_dados/Datasets/dados_emprestimos/emprestimos-20152.csv?raw=true\"\n",
    "# url20161 = \"https://github.com/FranciscoFoz/7_Days_of_Code_Alura-Python-Pandas/blob/main/Dia_1-Importando_dados/Datasets/dados_emprestimos/emprestimos-20161.csv?raw=true\"\n",
    "# url20162 = \"https://github.com/FranciscoFoz/7_Days_of_Code_Alura-Python-Pandas/blob/main/Dia_1-Importando_dados/Datasets/dados_emprestimos/emprestimos-20162.csv?raw=true\"\n",
    "# url20171 = \"https://github.com/FranciscoFoz/7_Days_of_Code_Alura-Python-Pandas/blob/main/Dia_1-Importando_dados/Datasets/dados_emprestimos/emprestimos-20171.csv?raw=true\"\n",
    "# url20172 = \"https://github.com/FranciscoFoz/7_Days_of_Code_Alura-Python-Pandas/blob/main/Dia_1-Importando_dados/Datasets/dados_emprestimos/emprestimos-20172.csv?raw=true\"\n",
    "# url20181 = \"https://github.com/FranciscoFoz/7_Days_of_Code_Alura-Python-Pandas/blob/main/Dia_1-Importando_dados/Datasets/dados_emprestimos/emprestimos-20181.csv?raw=true\"\n",
    "# url20182 = \"https://github.com/FranciscoFoz/7_Days_of_Code_Alura-Python-Pandas/blob/main/Dia_1-Importando_dados/Datasets/dados_emprestimos/emprestimos-20182.csv?raw=true\"\n",
    "# url20191 = \"https://github.com/FranciscoFoz/7_Days_of_Code_Alura-Python-Pandas/blob/main/Dia_1-Importando_dados/Datasets/dados_emprestimos/emprestimos-20191.csv?raw=true\"\n",
    "# url20192 = \"https://github.com/FranciscoFoz/7_Days_of_Code_Alura-Python-Pandas/blob/main/Dia_1-Importando_dados/Datasets/dados_emprestimos/emprestimos-20192.csv?raw=true\"\n",
    "# url20201 = \"https://github.com/FranciscoFoz/7_Days_of_Code_Alura-Python-Pandas/blob/main/Dia_1-Importando_dados/Datasets/dados_emprestimos/emprestimos-20201.csv?raw=true\""
   ]
  },
  {
   "cell_type": "code",
   "execution_count": 8,
   "id": "9313df78",
   "metadata": {},
   "outputs": [],
   "source": [
    "# dados_20101 = pd.read_csv(url20101)\n",
    "# dados_20102 = pd.read_csv(url20102)\n",
    "# dados_20111 = pd.read_csv(url20111)\n",
    "# dados_20112 = pd.read_csv(url20112)\n",
    "# dados_20121 = pd.read_csv(url20121)\n",
    "# dados_20122 = pd.read_csv(url20122)\n",
    "# dados_20131 = pd.read_csv(url20131)\n",
    "# dados_20132 = pd.read_csv(url20132)\n",
    "# dados_20141 = pd.read_csv(url20141)\n",
    "# dados_20142 = pd.read_csv(url20142)\n",
    "# dados_20151 = pd.read_csv(url20151)\n",
    "# dados_20152 = pd.read_csv(url20152)\n",
    "# dados_20161 = pd.read_csv(url20161)\n",
    "# dados_20162 = pd.read_csv(url20162)\n",
    "# dados_20171 = pd.read_csv(url20171)\n",
    "# dados_20172 = pd.read_csv(url20172)\n",
    "# dados_20181 = pd.read_csv(url20181)\n",
    "# dados_20182 = pd.read_csv(url20182)\n",
    "# dados_20191 = pd.read_csv(url20191)\n",
    "# dados_20192 = pd.read_csv(url20192)\n",
    "# dados_20201 = pd.read_csv(url20201)"
   ]
  },
  {
   "cell_type": "code",
   "execution_count": 9,
   "id": "93d8e3ac",
   "metadata": {},
   "outputs": [],
   "source": [
    "# arr_df = [\n",
    "#     dados_20101,\n",
    "#     dados_20102,\n",
    "#     dados_20111,\n",
    "#     dados_20112,\n",
    "#     dados_20121,\n",
    "#     dados_20122,\n",
    "#     dados_20131,\n",
    "#     dados_20132,\n",
    "#     dados_20141,\n",
    "#     dados_20142,\n",
    "#     dados_20151,\n",
    "#     dados_20152,\n",
    "#     dados_20161,\n",
    "#     dados_20162,\n",
    "#     dados_20171,\n",
    "#     dados_20172,\n",
    "#     dados_20181,\n",
    "#     dados_20182,\n",
    "#     dados_20191,\n",
    "#     dados_20192,\n",
    "#     dados_20201,\n",
    "# ]\n",
    "# dados_concat = pd.concat(arr_df, ignore_index=True)\n",
    "# dados_concat"
   ]
  },
  {
   "cell_type": "markdown",
   "id": "85d96bae",
   "metadata": {},
   "source": [
    "# Carregando as tabelas"
   ]
  },
  {
   "cell_type": "code",
   "execution_count": 2,
   "id": "d83f1ff3",
   "metadata": {},
   "outputs": [],
   "source": [
    "years = [20101, 20102, 20111, 20112, 20121, 20122, 20131, 20132, 20141, 20142,\n",
    "    20151, 20152, 20161, 20162, 20171, 20172, 20181, 20182, 20191, 20192, 20201\n",
    "]\n",
    "\n",
    "dfs = []\n",
    "\n",
    "for year in years:\n",
    "    url = f\"https://github.com/FranciscoFoz/7_Days_of_Code_Alura-Python-Pandas/blob/main/Dia_1-Importando_dados/Datasets/dados_emprestimos/emprestimos-{year}.csv?raw=true\"\n",
    "    \n",
    "    df = pd.read_csv(url)\n",
    "    dfs.append(df)"
   ]
  },
  {
   "cell_type": "markdown",
   "id": "fd01534c",
   "metadata": {},
   "source": [
    "# Concatenando as tabelas"
   ]
  },
  {
   "cell_type": "code",
   "execution_count": 3,
   "id": "74ebca7e",
   "metadata": {},
   "outputs": [
    {
     "name": "stdout",
     "output_type": "stream",
     "text": [
      "(2258018, 7)\n"
     ]
    },
    {
     "data": {
      "text/html": [
       "<div>\n",
       "<style scoped>\n",
       "    .dataframe tbody tr th:only-of-type {\n",
       "        vertical-align: middle;\n",
       "    }\n",
       "\n",
       "    .dataframe tbody tr th {\n",
       "        vertical-align: top;\n",
       "    }\n",
       "\n",
       "    .dataframe thead th {\n",
       "        text-align: right;\n",
       "    }\n",
       "</style>\n",
       "<table border=\"1\" class=\"dataframe\">\n",
       "  <thead>\n",
       "    <tr style=\"text-align: right;\">\n",
       "      <th></th>\n",
       "      <th>id_emprestimo</th>\n",
       "      <th>codigo_barras</th>\n",
       "      <th>data_renovacao</th>\n",
       "      <th>data_emprestimo</th>\n",
       "      <th>data_devolucao</th>\n",
       "      <th>matricula_ou_siape</th>\n",
       "      <th>tipo_vinculo_usuario</th>\n",
       "    </tr>\n",
       "  </thead>\n",
       "  <tbody>\n",
       "    <tr>\n",
       "      <th>0</th>\n",
       "      <td>709684</td>\n",
       "      <td>L095049</td>\n",
       "      <td>NaN</td>\n",
       "      <td>2010/01/04 07:44:10.721000000</td>\n",
       "      <td>2010/01/05 16:26:12.662000000</td>\n",
       "      <td>2.008023e+09</td>\n",
       "      <td>ALUNO DE GRADUAÇÃO</td>\n",
       "    </tr>\n",
       "    <tr>\n",
       "      <th>1</th>\n",
       "      <td>709685</td>\n",
       "      <td>L167050</td>\n",
       "      <td>NaN</td>\n",
       "      <td>2010/01/04 07:44:10.750000000</td>\n",
       "      <td>2010/01/12 07:34:13.934000000</td>\n",
       "      <td>2.008023e+09</td>\n",
       "      <td>ALUNO DE GRADUAÇÃO</td>\n",
       "    </tr>\n",
       "    <tr>\n",
       "      <th>2</th>\n",
       "      <td>709686</td>\n",
       "      <td>2006017618</td>\n",
       "      <td>2010/01/26 08:07:01.738000000</td>\n",
       "      <td>2010/01/04 08:08:44.081000000</td>\n",
       "      <td>2010/02/25 07:36:25.800000000</td>\n",
       "      <td>2.008112e+09</td>\n",
       "      <td>ALUNO DE PÓS-GRADUAÇÃO</td>\n",
       "    </tr>\n",
       "    <tr>\n",
       "      <th>3</th>\n",
       "      <td>709687</td>\n",
       "      <td>L184117</td>\n",
       "      <td>2010/01/18 11:07:46.470000000</td>\n",
       "      <td>2010/01/04 08:24:21.284000000</td>\n",
       "      <td>2010/02/03 08:58:45.692000000</td>\n",
       "      <td>2.007211e+08</td>\n",
       "      <td>ALUNO DE GRADUAÇÃO</td>\n",
       "    </tr>\n",
       "    <tr>\n",
       "      <th>4</th>\n",
       "      <td>709684</td>\n",
       "      <td>L095049</td>\n",
       "      <td>NaN</td>\n",
       "      <td>2010/01/04 07:44:10.721000000</td>\n",
       "      <td>2010/01/05 16:26:12.662000000</td>\n",
       "      <td>2.008023e+09</td>\n",
       "      <td>ALUNO DE GRADUAÇÃO</td>\n",
       "    </tr>\n",
       "  </tbody>\n",
       "</table>\n",
       "</div>"
      ],
      "text/plain": [
       "   id_emprestimo codigo_barras                 data_renovacao  \\\n",
       "0         709684       L095049                            NaN   \n",
       "1         709685       L167050                            NaN   \n",
       "2         709686    2006017618  2010/01/26 08:07:01.738000000   \n",
       "3         709687       L184117  2010/01/18 11:07:46.470000000   \n",
       "4         709684       L095049                            NaN   \n",
       "\n",
       "                 data_emprestimo                 data_devolucao  \\\n",
       "0  2010/01/04 07:44:10.721000000  2010/01/05 16:26:12.662000000   \n",
       "1  2010/01/04 07:44:10.750000000  2010/01/12 07:34:13.934000000   \n",
       "2  2010/01/04 08:08:44.081000000  2010/02/25 07:36:25.800000000   \n",
       "3  2010/01/04 08:24:21.284000000  2010/02/03 08:58:45.692000000   \n",
       "4  2010/01/04 07:44:10.721000000  2010/01/05 16:26:12.662000000   \n",
       "\n",
       "   matricula_ou_siape    tipo_vinculo_usuario  \n",
       "0        2.008023e+09      ALUNO DE GRADUAÇÃO  \n",
       "1        2.008023e+09      ALUNO DE GRADUAÇÃO  \n",
       "2        2.008112e+09  ALUNO DE PÓS-GRADUAÇÃO  \n",
       "3        2.007211e+08      ALUNO DE GRADUAÇÃO  \n",
       "4        2.008023e+09      ALUNO DE GRADUAÇÃO  "
      ]
     },
     "execution_count": 3,
     "metadata": {},
     "output_type": "execute_result"
    }
   ],
   "source": [
    "dados_csv_concat = pd.concat(dfs)\n",
    "print(dados_csv_concat.shape)\n",
    "dados_csv_concat.head()"
   ]
  },
  {
   "cell_type": "code",
   "execution_count": 4,
   "id": "6ea79fec",
   "metadata": {},
   "outputs": [
    {
     "name": "stdout",
     "output_type": "stream",
     "text": [
      "<class 'pandas.core.frame.DataFrame'>\n",
      "Int64Index: 2258018 entries, 0 to 26560\n",
      "Data columns (total 7 columns):\n",
      " #   Column                Dtype  \n",
      "---  ------                -----  \n",
      " 0   id_emprestimo         int64  \n",
      " 1   codigo_barras         object \n",
      " 2   data_renovacao        object \n",
      " 3   data_emprestimo       object \n",
      " 4   data_devolucao        object \n",
      " 5   matricula_ou_siape    float64\n",
      " 6   tipo_vinculo_usuario  object \n",
      "dtypes: float64(1), int64(1), object(5)\n",
      "memory usage: 137.8+ MB\n"
     ]
    }
   ],
   "source": [
    "dados_csv_concat.info()"
   ]
  },
  {
   "cell_type": "markdown",
   "id": "af9c84e0",
   "metadata": {},
   "source": [
    "# Salvando dados em formato PARQUET"
   ]
  },
  {
   "cell_type": "code",
   "execution_count": 6,
   "id": "241af34d",
   "metadata": {},
   "outputs": [],
   "source": [
    "dados_csv_concat.to_parquet(\"emprestimos.parquet\")"
   ]
  },
  {
   "cell_type": "code",
   "execution_count": null,
   "id": "3db0bf9a",
   "metadata": {},
   "outputs": [],
   "source": []
  }
 ],
 "metadata": {
  "kernelspec": {
   "display_name": "Python 3 (ipykernel)",
   "language": "python",
   "name": "python3"
  },
  "language_info": {
   "codemirror_mode": {
    "name": "ipython",
    "version": 3
   },
   "file_extension": ".py",
   "mimetype": "text/x-python",
   "name": "python",
   "nbconvert_exporter": "python",
   "pygments_lexer": "ipython3",
   "version": "3.9.13"
  }
 },
 "nbformat": 4,
 "nbformat_minor": 5
}
